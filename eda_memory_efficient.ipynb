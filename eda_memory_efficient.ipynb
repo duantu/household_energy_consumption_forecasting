{
 "cells": [
  {
   "cell_type": "markdown",
   "id": "3d414e2c",
   "metadata": {},
   "source": [
    "# This code calculates how many data points there are for each household in AUS, GE, and UK and saves them as a csv file under the data folder.\n",
    "\n",
    "3. How long is each time series(per household)? Find longest/shortest series. \n",
    "\n",
    "10 Households with the Lowest Data Points:\n",
    "\n",
    "id |   count |  country\n",
    "\n",
    "uk_MAC001150   |   1    |  UK\n",
    "\n",
    "uk_MAC005556   |   1    |  UK\n",
    "\n",
    "uk_MAC005559  |    1      UK\n",
    "\n",
    "uk_MAC005560   |   1      UK\n",
    "\n",
    "uk_MAC005563    | 1  |    UK\n",
    "\n",
    "AUS_8283372   | 100   |  AUS\n",
    "\n",
    "AUS_9910402  |  104    | AUS\n",
    "\n",
    "AUS_9082454   | 235   |  AUS\n",
    "\n",
    "AUS_8687320    |377    | AUS\n",
    "\n",
    "AUS_10690934    |492    | AUS\n",
    "\n",
    "----------\n",
    "\n",
    "10 Households with the Highest Data Points:\n",
    "\n",
    "id,  count, country\n",
    "\n",
    "GE_5 | 61606   |   GE\n",
    "\n",
    "GE_6  | 43067   |   GE\n",
    "\n",
    "AUS_8301418 | 42192  |   AUS\n",
    "\n",
    "AUS_10534355 |  42010 |    AUS\n",
    "\n",
    "AUS_10534327  | 42007  |   AUS\n",
    "\n",
    "AUS_10042974 | 42000    | AUS\n",
    "\n",
    "AUS_10413359| 42000     | AUS\n",
    "\n",
    "AUS_10413373  | 41997   | AUS\n",
    "\n",
    "AUS_10424877 | 41997    | AUS\n",
    "\n",
    "AUS_10174306 | 41994    | AUS\n"
   ]
  },
  {
   "cell_type": "code",
   "execution_count": 1,
   "id": "366b7281",
   "metadata": {},
   "outputs": [
    {
     "name": "stdout",
     "output_type": "stream",
     "text": [
      "id\n",
      "AUS_10006414    36105\n",
      "AUS_10006486    18434\n",
      "AUS_10006492    18434\n",
      "AUS_10006572    33700\n",
      "AUS_10006630    30721\n",
      "                ...  \n",
      "AUS_9997722     30182\n",
      "AUS_9997730     30182\n",
      "AUS_9997738     18883\n",
      "AUS_9997764     30182\n",
      "AUS_9997848     18049\n",
      "Length: 13735, dtype: int64\n"
     ]
    }
   ],
   "source": [
    "import dask.dataframe as dd\n",
    "\n",
    "# Load the Parquet file with Dask\n",
    "df = dd.read_parquet(\"TUDelft-Electricity-Consumption-1.0/30m_resolution_aus/aus_30m.parquet\")\n",
    "\n",
    "# Group by household ID and count the number of records\n",
    "household_counts = df.groupby(\"id\").size().compute()\n",
    "\n",
    "# View the result\n",
    "print(household_counts)\n"
   ]
  },
  {
   "cell_type": "code",
   "execution_count": 2,
   "id": "94d0ed37",
   "metadata": {},
   "outputs": [],
   "source": [
    "household_counts.to_csv(\"data/household_counts_aus_30min.csv\", header=True)"
   ]
  },
  {
   "cell_type": "code",
   "execution_count": 3,
   "id": "063f7747",
   "metadata": {},
   "outputs": [],
   "source": [
    "df2= dd.read_parquet(\"TUDelft-Electricity-Consumption-1.0/30m_resolution_ge/ge_30m.parquet\")\n",
    "household_counts2 = df2.groupby(\"id\").size().compute()\n",
    "household_counts2.to_csv(\"data/household_counts_ge_30min.csv\", header=True)"
   ]
  },
  {
   "cell_type": "code",
   "execution_count": 4,
   "id": "21e03c7a",
   "metadata": {},
   "outputs": [],
   "source": [
    "df3= dd.read_parquet(\"TUDelft-Electricity-Consumption-1.0/30m_resolution_uk/uk_30m.parquet\")\n",
    "household_counts3 = df3.groupby(\"id\").size().compute()\n",
    "household_counts3.to_csv(\"data/household_counts_uk_30min.csv\", header=True)"
   ]
  },
  {
   "cell_type": "code",
   "execution_count": 8,
   "id": "69c1e51e",
   "metadata": {},
   "outputs": [
    {
     "name": "stdout",
     "output_type": "stream",
     "text": [
      "Minimum data points per household: 1\n",
      "Maximum data points per household: 61606\n"
     ]
    }
   ],
   "source": [
    "import pandas as pd\n",
    "\n",
    "aus_counts = pd.read_csv(\"data/household_counts_aus_30min.csv\")\n",
    "ge_counts = pd.read_csv(\"data/household_counts_ge_30min.csv\")\n",
    "uk_counts = pd.read_csv(\"data/household_counts_uk_30min.csv\")\n",
    "\n",
    "aus_counts.rename(columns={\"0\": \"count\"}, inplace=True)\n",
    "ge_counts.rename(columns={\"0\": \"count\"}, inplace=True)\n",
    "uk_counts.rename(columns={\"0\": \"count\"}, inplace=True)\n",
    "\n",
    "aus_counts[\"country\"] = \"AUS\"\n",
    "ge_counts[\"country\"] = \"GE\"\n",
    "uk_counts[\"country\"] = \"UK\"\n",
    "\n",
    "combined = pd.concat([aus_counts, ge_counts, uk_counts], ignore_index=True)\n",
    "\n",
    "min_count = combined[\"count\"].min()\n",
    "max_count = combined[\"count\"].max()\n",
    "\n",
    "print(f\"Minimum data points per household: {min_count}\")\n",
    "print(f\"Maximum data points per household: {max_count}\")\n"
   ]
  },
  {
   "cell_type": "code",
   "execution_count": 17,
   "id": "1aaf7156",
   "metadata": {},
   "outputs": [
    {
     "data": {
      "text/html": [
       "<div>\n",
       "<style scoped>\n",
       "    .dataframe tbody tr th:only-of-type {\n",
       "        vertical-align: middle;\n",
       "    }\n",
       "\n",
       "    .dataframe tbody tr th {\n",
       "        vertical-align: top;\n",
       "    }\n",
       "\n",
       "    .dataframe thead th {\n",
       "        text-align: right;\n",
       "    }\n",
       "</style>\n",
       "<table border=\"1\" class=\"dataframe\">\n",
       "  <thead>\n",
       "    <tr style=\"text-align: right;\">\n",
       "      <th></th>\n",
       "      <th>id</th>\n",
       "      <th>count</th>\n",
       "      <th>country</th>\n",
       "    </tr>\n",
       "  </thead>\n",
       "  <tbody>\n",
       "    <tr>\n",
       "      <th>0</th>\n",
       "      <td>AUS_10006414</td>\n",
       "      <td>36105</td>\n",
       "      <td>AUS</td>\n",
       "    </tr>\n",
       "    <tr>\n",
       "      <th>1</th>\n",
       "      <td>AUS_10006486</td>\n",
       "      <td>18434</td>\n",
       "      <td>AUS</td>\n",
       "    </tr>\n",
       "    <tr>\n",
       "      <th>2</th>\n",
       "      <td>AUS_10006492</td>\n",
       "      <td>18434</td>\n",
       "      <td>AUS</td>\n",
       "    </tr>\n",
       "    <tr>\n",
       "      <th>3</th>\n",
       "      <td>AUS_10006572</td>\n",
       "      <td>33700</td>\n",
       "      <td>AUS</td>\n",
       "    </tr>\n",
       "    <tr>\n",
       "      <th>4</th>\n",
       "      <td>AUS_10006630</td>\n",
       "      <td>30721</td>\n",
       "      <td>AUS</td>\n",
       "    </tr>\n",
       "    <tr>\n",
       "      <th>...</th>\n",
       "      <td>...</td>\n",
       "      <td>...</td>\n",
       "      <td>...</td>\n",
       "    </tr>\n",
       "    <tr>\n",
       "      <th>19302</th>\n",
       "      <td>uk_MAC005563</td>\n",
       "      <td>1</td>\n",
       "      <td>UK</td>\n",
       "    </tr>\n",
       "    <tr>\n",
       "      <th>19303</th>\n",
       "      <td>uk_MAC005564</td>\n",
       "      <td>28349</td>\n",
       "      <td>UK</td>\n",
       "    </tr>\n",
       "    <tr>\n",
       "      <th>19304</th>\n",
       "      <td>uk_MAC005565</td>\n",
       "      <td>8743</td>\n",
       "      <td>UK</td>\n",
       "    </tr>\n",
       "    <tr>\n",
       "      <th>19305</th>\n",
       "      <td>uk_MAC005566</td>\n",
       "      <td>24624</td>\n",
       "      <td>UK</td>\n",
       "    </tr>\n",
       "    <tr>\n",
       "      <th>19306</th>\n",
       "      <td>uk_MAC005567</td>\n",
       "      <td>20885</td>\n",
       "      <td>UK</td>\n",
       "    </tr>\n",
       "  </tbody>\n",
       "</table>\n",
       "<p>19307 rows × 3 columns</p>\n",
       "</div>"
      ],
      "text/plain": [
       "                 id  count country\n",
       "0      AUS_10006414  36105     AUS\n",
       "1      AUS_10006486  18434     AUS\n",
       "2      AUS_10006492  18434     AUS\n",
       "3      AUS_10006572  33700     AUS\n",
       "4      AUS_10006630  30721     AUS\n",
       "...             ...    ...     ...\n",
       "19302  uk_MAC005563      1      UK\n",
       "19303  uk_MAC005564  28349      UK\n",
       "19304  uk_MAC005565   8743      UK\n",
       "19305  uk_MAC005566  24624      UK\n",
       "19306  uk_MAC005567  20885      UK\n",
       "\n",
       "[19307 rows x 3 columns]"
      ]
     },
     "execution_count": 17,
     "metadata": {},
     "output_type": "execute_result"
    }
   ],
   "source": [
    "combined"
   ]
  },
  {
   "cell_type": "code",
   "execution_count": 10,
   "id": "aca6a684",
   "metadata": {},
   "outputs": [
    {
     "name": "stdout",
     "output_type": "stream",
     "text": [
      "Households with MINIMUM data points:\n",
      "                 id  count country\n",
      "14655  uk_MAC001150      1      UK\n",
      "19295  uk_MAC005556      1      UK\n",
      "19298  uk_MAC005559      1      UK\n",
      "19299  uk_MAC005560      1      UK\n",
      "19302  uk_MAC005563      1      UK\n",
      "\n",
      " Households with MAXIMUM data points:\n",
      "         id  count country\n",
      "13739  GE_5  61606      GE\n"
     ]
    }
   ],
   "source": [
    "# Get the actual rows with the min and max count\n",
    "min_rows = combined[combined[\"count\"] == combined[\"count\"].min()]\n",
    "max_rows = combined[combined[\"count\"] == combined[\"count\"].max()]\n",
    "\n",
    "print(\"Households with MINIMUM data points:\")\n",
    "print(min_rows)\n",
    "\n",
    "print(\"\\n Households with MAXIMUM data points:\")\n",
    "print(max_rows)\n"
   ]
  },
  {
   "cell_type": "code",
   "execution_count": null,
   "id": "ea54fa48",
   "metadata": {},
   "outputs": [
    {
     "name": "stdout",
     "output_type": "stream",
     "text": [
      "Mean data points per household: 26714.12\n"
     ]
    }
   ],
   "source": [
    "mean_count = combined[\"count\"].mean()\n",
    "print(f\"Mean data points per household: {mean_count:.2f}\")"
   ]
  },
  {
   "cell_type": "code",
   "execution_count": 16,
   "id": "09bfc4e0",
   "metadata": {},
   "outputs": [
    {
     "name": "stdout",
     "output_type": "stream",
     "text": [
      "10 Households with the Lowest Data Points:\n",
      "                 id  count country\n",
      "14655  uk_MAC001150      1      UK\n",
      "19295  uk_MAC005556      1      UK\n",
      "19298  uk_MAC005559      1      UK\n",
      "19299  uk_MAC005560      1      UK\n",
      "19302  uk_MAC005563      1      UK\n",
      "3995    AUS_8283372    100     AUS\n",
      "13453   AUS_9910402    104     AUS\n",
      "12483   AUS_9082454    235     AUS\n",
      "11536   AUS_8687320    377     AUS\n",
      "7512   AUS_10690934    492     AUS\n"
     ]
    }
   ],
   "source": [
    "# 10 households with the fewest data points\n",
    "lowest_10 = combined.nsmallest(10, \"count\")\n",
    "print(\"10 Households with the Lowest Data Points:\")\n",
    "print(lowest_10)"
   ]
  },
  {
   "cell_type": "code",
   "execution_count": 15,
   "id": "1b11e71b",
   "metadata": {},
   "outputs": [
    {
     "name": "stdout",
     "output_type": "stream",
     "text": [
      "10 Households with the Highest Data Points:\n",
      "                 id  count country\n",
      "13739          GE_5  61606      GE\n",
      "13740          GE_6  43067      GE\n",
      "4261    AUS_8301418  42192     AUS\n",
      "6764   AUS_10534355  42010     AUS\n",
      "6752   AUS_10534327  42007     AUS\n",
      "181    AUS_10042974  42000     AUS\n",
      "6379   AUS_10413359  42000     AUS\n",
      "6382   AUS_10413373  41997     AUS\n",
      "6471   AUS_10424877  41997     AUS\n",
      "651    AUS_10174306  41994     AUS\n"
     ]
    }
   ],
   "source": [
    "# 10 households with the most data points\n",
    "highest_10 = combined.nlargest(10, \"count\")\n",
    "print(\"10 Households with the Highest Data Points:\")\n",
    "print(highest_10)\n"
   ]
  }
 ],
 "metadata": {
  "kernelspec": {
   "display_name": ".venv",
   "language": "python",
   "name": "python3"
  },
  "language_info": {
   "codemirror_mode": {
    "name": "ipython",
    "version": 3
   },
   "file_extension": ".py",
   "mimetype": "text/x-python",
   "name": "python",
   "nbconvert_exporter": "python",
   "pygments_lexer": "ipython3",
   "version": "3.12.1"
  }
 },
 "nbformat": 4,
 "nbformat_minor": 5
}
